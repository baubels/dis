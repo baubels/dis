{
 "cells": [
  {
   "cell_type": "code",
   "execution_count": 67,
   "metadata": {},
   "outputs": [],
   "source": [
    "import numpy as np\n",
    "import itertools\n",
    "\n",
    "cube = (np.array(list(itertools.product([0, 1], repeat=3))) - 0.5)*2 # cube in world coordinates\n",
    "cube_id = cube.copy()                                                    # cube with no translation or rotations \n",
    "rotation_matrix = np.array([[0.707, -0.707, 0], [0.707, 0.707, 0], [0, 0, 1]])\n",
    "cube_rot = np.dot(cube, rotation_matrix)\n",
    "cube = cube_rot + 5                                                      # cube in camera coordinates; t = 5, R = the above\n",
    "\n",
    "\n",
    "# image of cube from (0,0,0)\n",
    "f = 10\n",
    "true_pts = np.array([[f*x/z, f*y/z] for x,y,z in cube])                  # cube, downsampled to 2D image plane; say this is the PICTURE"
   ]
  },
  {
   "cell_type": "code",
   "execution_count": 68,
   "metadata": {},
   "outputs": [
    {
     "data": {
      "text/plain": [
       "array([[ 0.707, -0.707,  0.   ],\n",
       "       [ 0.707,  0.707,  0.   ],\n",
       "       [ 0.   ,  0.   ,  1.   ]])"
      ]
     },
     "execution_count": 68,
     "metadata": {},
     "output_type": "execute_result"
    }
   ],
   "source": [
    "rotation_matrix"
   ]
  },
  {
   "cell_type": "code",
   "execution_count": 69,
   "metadata": {},
   "outputs": [],
   "source": [
    "# FIND THE POSE GIVEN TRUE_PTS AND CUBE_ID"
   ]
  },
  {
   "cell_type": "code",
   "execution_count": 90,
   "metadata": {},
   "outputs": [
    {
     "data": {
      "text/plain": [
       "array([ 8.965, 12.5  ])"
      ]
     },
     "execution_count": 90,
     "metadata": {},
     "output_type": "execute_result"
    }
   ],
   "source": [
    "cube_id[0] # M_0\n",
    "true_pts[0] # m_0"
   ]
  },
  {
   "cell_type": "code",
   "execution_count": 120,
   "metadata": {},
   "outputs": [
    {
     "data": {
      "text/plain": [
       "(array([[ 0.54011723,  0.54011723, -0.64540433],\n",
       "        [-0.49996224,  0.49996224, -0.70716017],\n",
       "        [-0.0592716 ,  0.70462719,  0.54007645]]),\n",
       " array([3.3219606 , 4.5003982 , 0.66672566]))"
      ]
     },
     "execution_count": 120,
     "metadata": {},
     "output_type": "execute_result"
    }
   ],
   "source": [
    "# vector_xy = (true_pts-true_pts[0])[1:]\n",
    "vector_xy = np.array((true_pts[:,0]-true_pts[0][0], true_pts[:,1]-true_pts[0][1])).T[1:,:]\n",
    "IJ = np.linalg.pinv(cube_id[1:] - cube_id[0]) @ vector_xy\n",
    "ij = IJ/np.linalg.norm(IJ, axis=0)\n",
    "R = np.array([ij[:,0], ij[:,1], np.cross(ij[:,0], ij[:,1])])\n",
    "s = np.linalg.norm(IJ[:,0])\n",
    "m0 = np.array([true_pts[0][0], true_pts[0][1], 1])\n",
    "t = (m0-cube_id[0])/s\n",
    "R, t"
   ]
  },
  {
   "cell_type": "code",
   "execution_count": null,
   "metadata": {},
   "outputs": [],
   "source": []
  },
  {
   "cell_type": "code",
   "execution_count": null,
   "metadata": {},
   "outputs": [],
   "source": []
  },
  {
   "cell_type": "code",
   "execution_count": null,
   "metadata": {},
   "outputs": [],
   "source": []
  }
 ],
 "metadata": {
  "kernelspec": {
   "display_name": "pnp",
   "language": "python",
   "name": "python3"
  },
  "language_info": {
   "codemirror_mode": {
    "name": "ipython",
    "version": 3
   },
   "file_extension": ".py",
   "mimetype": "text/x-python",
   "name": "python",
   "nbconvert_exporter": "python",
   "pygments_lexer": "ipython3",
   "version": "3.8.17"
  },
  "orig_nbformat": 4
 },
 "nbformat": 4,
 "nbformat_minor": 2
}
