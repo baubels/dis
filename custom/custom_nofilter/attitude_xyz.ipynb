{
 "cells": [
  {
   "cell_type": "code",
   "execution_count": 3,
   "metadata": {},
   "outputs": [
    {
     "data": {
      "text/plain": [
       "(10052, 10063)"
      ]
     },
     "execution_count": 3,
     "metadata": {},
     "output_type": "execute_result"
    }
   ],
   "source": [
    "len(png_files), len(json_files)"
   ]
  },
  {
   "cell_type": "code",
   "execution_count": 7,
   "metadata": {},
   "outputs": [
    {
     "name": "stdout",
     "output_type": "stream",
     "text": [
      "10000 10000\n"
     ]
    },
    {
     "name": "stderr",
     "output_type": "stream",
     "text": [
      "loading x vals: 100%|██████████| 10000/10000 [02:39<00:00, 62.78it/s]\n"
     ]
    }
   ],
   "source": [
    "# just using the bounding box\n",
    "#### get png and json filepaths\n",
    "\n",
    "import glob\n",
    "import os\n",
    "import re\n",
    "from PIL import Image\n",
    "\n",
    "path = \"/Users/dk/Documents.nosync/msc-project/boundingbox/xyz_random_10k/data\"\n",
    "png_files = glob.glob(os.path.join(path, '*.png'))\n",
    "json_files = glob.glob(os.path.join(path, '*.json'))\n",
    "\n",
    "def extract_png_number(filename):\n",
    "    match = re.search(r'(\\d+).png$', filename)\n",
    "    if match:   return int(match.group(1))\n",
    "    else:       return -1\n",
    "    \n",
    "def extract_json_number(filename):\n",
    "    match = re.search(r'(\\d+).json$', filename)\n",
    "    if match:   return int(match.group(1))\n",
    "    else:       return -1\n",
    "\n",
    "png_files.sort(key=extract_png_number)\n",
    "json_files.sort(key=extract_json_number)\n",
    "\n",
    "\n",
    "# remove redundant files\n",
    "png_files_new = []\n",
    "\n",
    "for png in png_files:\n",
    "    if png[-5] == ')':\n",
    "        continue\n",
    "    else:\n",
    "        png_files_new.append(png)\n",
    "png_files = png_files_new\n",
    "\n",
    "json_files_new = []\n",
    "\n",
    "for json in json_files:\n",
    "    if json[-6] == ')':\n",
    "        continue\n",
    "    else:\n",
    "        json_files_new.append(json)\n",
    "json_files = json_files_new\n",
    "\n",
    "print(len(png_files), len(json_files))\n",
    "min_length = min(len(png_files), len(json_files))\n",
    "png_files = png_files[:min_length]\n",
    "json_files = json_files[:min_length]\n",
    "\n",
    "# png_files.sort(key=extract_png_number)\n",
    "# json_files.sort(key=extract_json_number)\n",
    "\n",
    "for i in range(len(png_files)):\n",
    "    assert png_files[i][-5] == json_files[i][-6], 'file mismatch'\n",
    "\n",
    "## get the translations (YVALS) from the json files\n",
    "\n",
    "import os\n",
    "import json\n",
    "import numpy as np\n",
    "\n",
    "translations = []\n",
    "for json_f in json_files:\n",
    "    with open(json_f) as f: translations.append(json.load(f)['translation'])\n",
    "\n",
    "translations = np.array(translations, dtype=np.float32)\n",
    "y_vals = translations\n",
    "\n",
    "\n",
    "# extract dimensions (XVALS) from the data\n",
    "from skimage.color import rgb2gray\n",
    "def model_dimensions(img_np:np.ndarray):\n",
    "\n",
    "    # create object mask\n",
    "    img_np_copy = img_np.copy()\n",
    "    img_np_copy[np.where(img_np_copy<0.01)] = 0\n",
    "    img_np_copy[np.where(img_np_copy>0.01)] = 1\n",
    "\n",
    "    # determine object dimensions\n",
    "    y,x,c = np.where(img_np_copy>0)\n",
    "    try:\n",
    "        ymin, ymax = np.min(y), np.max(y)\n",
    "        xmin, xmax = np.min(x), np.max(x)\n",
    "    except:\n",
    "        ymin, ymax = 0, 0\n",
    "        xmin, xmax = 0, 0\n",
    "    height = ymax - ymin\n",
    "    width = xmax - xmin\n",
    "\n",
    "    # determine horizontal-wise pixel sums\n",
    "    img_np_copy_bw = rgb2gray(img_np_copy.copy())\n",
    "    horiz_sums = np.sum(img_np_copy_bw, axis=0)\n",
    "    horiz_sums = horiz_sums/np.max(horiz_sums)\n",
    "    horiz_sums = horiz_sums[horiz_sums>0.01]\n",
    "    horiz_sums = [i for i in horiz_sums]\n",
    "\n",
    "    # determine vertical-wise pixel sums\n",
    "    vert_sums = np.sum(img_np_copy_bw, axis=1)\n",
    "    vert_sums = vert_sums/np.max(vert_sums)\n",
    "    vert_sums = vert_sums[vert_sums>0.01]\n",
    "    vert_sums = [i for i in vert_sums]\n",
    "\n",
    "    # turn the horizontal and vertical sums into a spline, and sample 20 points\n",
    "    from scipy.interpolate import UnivariateSpline\n",
    "    horiz_spline = UnivariateSpline(range(len(horiz_sums)), horiz_sums)\n",
    "    vert_spline = UnivariateSpline(range(len(vert_sums)), vert_sums)\n",
    "    horiz_spline.set_smoothing_factor(0.5)\n",
    "    vert_spline.set_smoothing_factor(0.5)\n",
    "\n",
    "    values_to_query = np.linspace(0, len(horiz_sums), 20)\n",
    "    horiz_spline_vals = horiz_spline(values_to_query)\n",
    "\n",
    "    values_to_query = np.linspace(0, len(vert_sums), 20)\n",
    "    vert_spline_vals  = vert_spline(values_to_query)\n",
    "\n",
    "    return [height, width, ymin, ymax, xmin, xmax] + list(horiz_spline_vals) + list(vert_spline_vals)\n",
    "\n",
    "\n",
    "import tqdm\n",
    "dimensions = []\n",
    "dimensions_to_use = []\n",
    "for png_f in tqdm.tqdm(png_files, desc='loading x vals'):\n",
    "    img = Image.open(png_f).convert('RGB')\n",
    "    img_np = np.array(img)/255.0\n",
    "    try:\n",
    "        dimensions.append(model_dimensions(img_np))\n",
    "        dimensions_to_use.append(True)\n",
    "    except:\n",
    "        dimensions.append([0]*46)\n",
    "        dimensions_to_use.append(False)\n",
    "        continue\n",
    "\n",
    "dimensions_to_use = np.array(dimensions_to_use, dtype='bool')\n",
    "dimensions = np.array(dimensions, dtype=np.float32)\n",
    "dimensions = dimensions[dimensions_to_use]\n",
    "y_vals = y_vals[dimensions_to_use]\n",
    "xvals = dimensions\n"
   ]
  },
  {
   "cell_type": "code",
   "execution_count": null,
   "metadata": {},
   "outputs": [],
   "source": []
  },
  {
   "cell_type": "code",
   "execution_count": 8,
   "metadata": {},
   "outputs": [
    {
     "name": "stdout",
     "output_type": "stream",
     "text": [
      "7000 3000\n"
     ]
    }
   ],
   "source": [
    "\n",
    "# CHOOSE TRAINING AND TESTING INDICES\n",
    "\n",
    "import random\n",
    "random.seed(42)\n",
    "data_percent = 0.7\n",
    "n_pts_to_train = int(data_percent*len(xvals))\n",
    "\n",
    "# n = len(xvals[:n_pts_to_train])\n",
    "# n_train = int(data_percent*n)\n",
    "# n_test = n - n_train\n",
    "# print(n, n_train, n_test)\n",
    "\n",
    "indices = list(range(len(xvals)))\n",
    "random.shuffle(indices)\n",
    "train_indices = indices[:n_pts_to_train]\n",
    "test_indices = indices[n_pts_to_train:]\n",
    "print(len(train_indices), len(test_indices))\n"
   ]
  },
  {
   "cell_type": "code",
   "execution_count": null,
   "metadata": {},
   "outputs": [],
   "source": []
  },
  {
   "cell_type": "code",
   "execution_count": 9,
   "metadata": {},
   "outputs": [
    {
     "name": "stdout",
     "output_type": "stream",
     "text": [
      "geodesic distance, radians on test Extra trees 2.3730924413382812\n"
     ]
    },
    {
     "name": "stderr",
     "output_type": "stream",
     "text": [
      "/Users/dk/miniconda3/envs/bounding_box/lib/python3.8/site-packages/threadpoolctl.py:1010: RuntimeWarning: \n",
      "Found Intel OpenMP ('libiomp') and LLVM OpenMP ('libomp') loaded at\n",
      "the same time. Both libraries are known to be incompatible and this\n",
      "can cause random crashes or deadlocks on Linux when loaded in the\n",
      "same Python program.\n",
      "Using threadpoolctl may cause crashes or deadlocks. For more\n",
      "information and possible workarounds, please see\n",
      "    https://github.com/joblib/threadpoolctl/blob/master/multiple_openmp.md\n",
      "\n",
      "  warnings.warn(msg, RuntimeWarning)\n"
     ]
    },
    {
     "name": "stdout",
     "output_type": "stream",
     "text": [
      "geodesic distance, radians on test K-nn 2.815183\n",
      "geodesic distance, radians on test Ridge 2.9756479553131125\n",
      "geodesic distance, radians on test Linear Regression 3.0947354\n",
      "geodesic distance, radians on test Lasso Linear_0.5 3.1054084\n"
     ]
    },
    {
     "data": {
      "image/png": "[encoded data removed]",
      "text/plain": [
       "<Figure size 1200x400 with 1 Axes>"
      ]
     },
     "metadata": {},
     "output_type": "display_data"
    }
   ],
   "source": [
    "# other\n",
    "from sklearn.ensemble import ExtraTreesRegressor\n",
    "from sklearn.linear_model import LinearRegression, RidgeCV\n",
    "from sklearn.neighbors import KNeighborsRegressor\n",
    "from sklearn import linear_model\n",
    "import sklearn\n",
    "import matplotlib.pyplot as plt\n",
    "\n",
    "# Fit estimators\n",
    "ESTIMATORS = {\n",
    "    \"Extra trees\": ExtraTreesRegressor(\n",
    "        n_estimators=100, max_features=32, random_state=0\n",
    "    ),\n",
    "    \"K-nn\": KNeighborsRegressor(),\n",
    "    \"Ridge\": RidgeCV(),\n",
    "    \"Linear Regression\": LinearRegression(),\n",
    "    # \"Lasso Linear_0.01\": linear_model.LassoLars(alpha=0.01),\n",
    "    # \"Lasso Linear_0.1\": linear_model.LassoLars(alpha=0.1),\n",
    "    \"Lasso Linear_0.5\": linear_model.LassoLars(alpha=0.5),\n",
    "}\n",
    "\n",
    "import torch\n",
    "def geodesic_rot_distance(target, pred):\n",
    "    \n",
    "    target = torch.tensor(target)\n",
    "    pred = torch.tensor(pred)\n",
    "    \n",
    "    ndims = len(target.shape)\n",
    "    # first, normalise each quaternion\n",
    "    pred   = torch.nn.functional.normalize(pred, p=2, dim=ndims-1)\n",
    "    target = torch.nn.functional.normalize(target, p=2, dim=ndims-1) # <- targets are already normalised\n",
    "\n",
    "    # compute angular distance\n",
    "    inner_prod_square = torch.square(torch.sum(pred*target, dim=ndims-1))\n",
    "    theta = torch.arccos(2*inner_prod_square-1)\n",
    "    return theta\n",
    "\n",
    "########## DEFINE BINS\n",
    "\n",
    "# Define the desired bin edges (minimum and maximum values)\n",
    "min_bin = 0\n",
    "max_bin = 30\n",
    "bin_width = 0.3  # Adjust this value as needed\n",
    "\n",
    "# Calculate the number of bins based on the range and bin width\n",
    "num_bins = int((max_bin - min_bin) / bin_width)\n",
    "\n",
    "y_test_predict = dict()\n",
    "plt.figure(figsize=(12, 4))\n",
    "for name, estimator in ESTIMATORS.items():\n",
    "    estimator.fit(xvals[train_indices], y_vals[train_indices])\n",
    "    y_test_predict[name] = estimator.predict(xvals[test_indices])\n",
    "    print(f'geodesic distance, radians on test {name}', sklearn.metrics.mean_squared_error(y_vals[test_indices], y_test_predict[name], squared=False))\n",
    "    data = geodesic_rot_distance(y_vals[test_indices], y_test_predict[name])*180/np.pi\n",
    "    plt.hist(data, bins=num_bins, range=(min_bin, max_bin), alpha=0.5, label=name)\n",
    "    \n",
    "    if name == 'K-nn':\n",
    "        # Calculate QUARTILES values\n",
    "        q25 = np.percentile(data, 25)\n",
    "        q50 = np.percentile(data, 50)\n",
    "        q75 = np.percentile(data, 75)\n",
    "\n",
    "        # Add vertical lines for quartiles\n",
    "        plt.axvline(q25, color='black', linestyle='dashed', linewidth=2, alpha=0.5, label='K-NN: 25th Quartile')\n",
    "        plt.axvline(q50, color='black', linestyle='dashed', linewidth=2, alpha=0.5, label='K-NN 50th Quartile (Median)')\n",
    "        plt.axvline(q75, color='black', linestyle='dashed', linewidth=2, alpha=0.5, label='K-NN 75th Quartile')\n",
    "        \n",
    "        plt.text(q25, -20, f'{q25:.2f}', color='black', fontsize=12, ha='center')\n",
    "        plt.text(q50, -20, f'{q50:.2f}', color='black', fontsize=12, ha='center')\n",
    "        plt.text(q75, -20, f'{q75:.2f}', color='black', fontsize=12, ha='center')\n",
    "\n",
    "    plt.title('XYZ attitude estimation')\n",
    "    plt.xlabel('geodesic distance, degrees')\n",
    "    plt.ylabel('count')\n",
    "    plt.legend()\n",
    "    # plt.show()\n"
   ]
  },
  {
   "cell_type": "code",
   "execution_count": null,
   "metadata": {},
   "outputs": [],
   "source": []
  }
 ],
 "metadata": {
  "kernelspec": {
   "display_name": "bounding_box",
   "language": "python",
   "name": "python3"
  },
  "language_info": {
   "codemirror_mode": {
    "name": "ipython",
    "version": 3
   },
   "file_extension": ".py",
   "mimetype": "text/x-python",
   "name": "python",
   "nbconvert_exporter": "python",
   "pygments_lexer": "ipython3",
   "version": "3.8.17"
  },
  "orig_nbformat": 4
 },
 "nbformat": 4,
 "nbformat_minor": 2
}
